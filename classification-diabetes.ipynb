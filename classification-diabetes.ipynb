{
 "cells": [
  {
   "cell_type": "markdown",
   "id": "a7f85da4",
   "metadata": {},
   "source": [
    "# Predict onset of diabetes using Pima Indians dataset"
   ]
  },
  {
   "cell_type": "markdown",
   "id": "0073024d",
   "metadata": {},
   "source": [
    "- Source 1: https://machinelearningmastery.com/tutorial-first-neural-network-python-keras/\n",
    "- Source 2: https://machinelearningmastery.com/5-step-life-cycle-neural-network-models-keras/\n",
    "- Dataset: https://archive.ics.uci.edu/ml/datasets/diabetes"
   ]
  },
  {
   "cell_type": "markdown",
   "id": "b5303f32",
   "metadata": {},
   "source": [
    "# 1. Setup"
   ]
  },
  {
   "cell_type": "code",
   "execution_count": 1,
   "id": "e9a9aa2e",
   "metadata": {},
   "outputs": [],
   "source": [
    "# ! conda install keras -y"
   ]
  },
  {
   "cell_type": "code",
   "execution_count": 2,
   "id": "82a96622-d302-4111-a1d9-56c70098b48c",
   "metadata": {},
   "outputs": [],
   "source": [
    "# ! conda install tensorflow -y"
   ]
  },
  {
   "cell_type": "code",
   "execution_count": 89,
   "id": "944c96cc",
   "metadata": {},
   "outputs": [],
   "source": [
    "# imports\n",
    "from numpy import loadtxt\n",
    "import pandas as pd\n",
    "from keras.models import Sequential\n",
    "from keras.layers import Dense"
   ]
  },
  {
   "cell_type": "code",
   "execution_count": 90,
   "id": "85b16074",
   "metadata": {},
   "outputs": [],
   "source": [
    "# data source\n",
    "# url = 'https://raw.githubusercontent.com/jbrownlee/Datasets/master/pima-indians-diabetes.data.csv'\n",
    "url = 'data/pima-indians-diabetes.data.csv'"
   ]
  },
  {
   "cell_type": "code",
   "execution_count": 91,
   "id": "5a586285",
   "metadata": {},
   "outputs": [],
   "source": [
    "# load the dataset\n",
    "dataset = loadtxt(url, delimiter=',')"
   ]
  },
  {
   "cell_type": "code",
   "execution_count": 92,
   "id": "4e932228-be36-4df4-8a7c-6a22207b3679",
   "metadata": {},
   "outputs": [
    {
     "data": {
      "text/plain": [
       "(768, 9)"
      ]
     },
     "execution_count": 92,
     "metadata": {},
     "output_type": "execute_result"
    }
   ],
   "source": [
    "# without numpy\n",
    "df = pd.read_csv(url, header=None)\n",
    "df.columns = ['pregnancies', 'plasma glucose', 'blood pressure', \n",
    "              'skin fold', 'insulin', 'BMI', 'pedigree', 'age', 'onset']\n",
    "df.shape"
   ]
  },
  {
   "cell_type": "code",
   "execution_count": 93,
   "id": "ee8c0f01-6a2e-49f7-80d2-8fada4039892",
   "metadata": {},
   "outputs": [
    {
     "data": {
      "text/html": [
       "<div>\n",
       "<style scoped>\n",
       "    .dataframe tbody tr th:only-of-type {\n",
       "        vertical-align: middle;\n",
       "    }\n",
       "\n",
       "    .dataframe tbody tr th {\n",
       "        vertical-align: top;\n",
       "    }\n",
       "\n",
       "    .dataframe thead th {\n",
       "        text-align: right;\n",
       "    }\n",
       "</style>\n",
       "<table border=\"1\" class=\"dataframe\">\n",
       "  <thead>\n",
       "    <tr style=\"text-align: right;\">\n",
       "      <th></th>\n",
       "      <th>pregnancies</th>\n",
       "      <th>plasma glucose</th>\n",
       "      <th>blood pressure</th>\n",
       "      <th>skin fold</th>\n",
       "      <th>insulin</th>\n",
       "      <th>BMI</th>\n",
       "      <th>pedigree</th>\n",
       "      <th>age</th>\n",
       "      <th>onset</th>\n",
       "    </tr>\n",
       "  </thead>\n",
       "  <tbody>\n",
       "    <tr>\n",
       "      <th>0</th>\n",
       "      <td>6</td>\n",
       "      <td>148</td>\n",
       "      <td>72</td>\n",
       "      <td>35</td>\n",
       "      <td>0</td>\n",
       "      <td>33.6</td>\n",
       "      <td>0.627</td>\n",
       "      <td>50</td>\n",
       "      <td>1</td>\n",
       "    </tr>\n",
       "    <tr>\n",
       "      <th>1</th>\n",
       "      <td>1</td>\n",
       "      <td>85</td>\n",
       "      <td>66</td>\n",
       "      <td>29</td>\n",
       "      <td>0</td>\n",
       "      <td>26.6</td>\n",
       "      <td>0.351</td>\n",
       "      <td>31</td>\n",
       "      <td>0</td>\n",
       "    </tr>\n",
       "    <tr>\n",
       "      <th>2</th>\n",
       "      <td>8</td>\n",
       "      <td>183</td>\n",
       "      <td>64</td>\n",
       "      <td>0</td>\n",
       "      <td>0</td>\n",
       "      <td>23.3</td>\n",
       "      <td>0.672</td>\n",
       "      <td>32</td>\n",
       "      <td>1</td>\n",
       "    </tr>\n",
       "    <tr>\n",
       "      <th>3</th>\n",
       "      <td>1</td>\n",
       "      <td>89</td>\n",
       "      <td>66</td>\n",
       "      <td>23</td>\n",
       "      <td>94</td>\n",
       "      <td>28.1</td>\n",
       "      <td>0.167</td>\n",
       "      <td>21</td>\n",
       "      <td>0</td>\n",
       "    </tr>\n",
       "    <tr>\n",
       "      <th>4</th>\n",
       "      <td>0</td>\n",
       "      <td>137</td>\n",
       "      <td>40</td>\n",
       "      <td>35</td>\n",
       "      <td>168</td>\n",
       "      <td>43.1</td>\n",
       "      <td>2.288</td>\n",
       "      <td>33</td>\n",
       "      <td>1</td>\n",
       "    </tr>\n",
       "  </tbody>\n",
       "</table>\n",
       "</div>"
      ],
      "text/plain": [
       "   pregnancies  plasma glucose  blood pressure  skin fold  insulin   BMI  \\\n",
       "0            6             148              72         35        0  33.6   \n",
       "1            1              85              66         29        0  26.6   \n",
       "2            8             183              64          0        0  23.3   \n",
       "3            1              89              66         23       94  28.1   \n",
       "4            0             137              40         35      168  43.1   \n",
       "\n",
       "   pedigree  age  onset  \n",
       "0     0.627   50      1  \n",
       "1     0.351   31      0  \n",
       "2     0.672   32      1  \n",
       "3     0.167   21      0  \n",
       "4     2.288   33      1  "
      ]
     },
     "execution_count": 93,
     "metadata": {},
     "output_type": "execute_result"
    }
   ],
   "source": [
    "# what the dataset looks like\n",
    "df.head()"
   ]
  },
  {
   "cell_type": "code",
   "execution_count": 94,
   "id": "bdba7106",
   "metadata": {},
   "outputs": [],
   "source": [
    "# split into input (X) and output (y) variables\n",
    "X = dataset[:,0:8]\n",
    "y = dataset[:,8]"
   ]
  },
  {
   "cell_type": "code",
   "execution_count": 95,
   "id": "38f1721b-fd35-4699-a745-5655d134e625",
   "metadata": {},
   "outputs": [
    {
     "data": {
      "text/plain": [
       "array([1., 0., 1., 0., 1.])"
      ]
     },
     "execution_count": 95,
     "metadata": {},
     "output_type": "execute_result"
    }
   ],
   "source": [
    "# examine the target\n",
    "y[:5]"
   ]
  },
  {
   "cell_type": "code",
   "execution_count": 96,
   "id": "a627bbbf",
   "metadata": {},
   "outputs": [],
   "source": [
    "# split into 67% for train and 33% for test\n",
    "from sklearn.model_selection import train_test_split\n",
    "X_train, X_test, y_train, y_test = train_test_split(X, y, test_size=0.33, random_state=42)"
   ]
  },
  {
   "cell_type": "markdown",
   "id": "2cd0bf8e",
   "metadata": {},
   "source": [
    "# 2. Define Keras Model"
   ]
  },
  {
   "cell_type": "code",
   "execution_count": 97,
   "id": "65e93be4",
   "metadata": {},
   "outputs": [],
   "source": [
    "# keras has two APIs: Sequential and Functional.\n",
    "model = Sequential()"
   ]
  },
  {
   "cell_type": "code",
   "execution_count": 98,
   "id": "5f9c1727",
   "metadata": {},
   "outputs": [],
   "source": [
    "# input layer\n",
    "model.add(Dense(12, input_dim=8, activation='relu'))"
   ]
  },
  {
   "cell_type": "code",
   "execution_count": 99,
   "id": "362c0bb9",
   "metadata": {},
   "outputs": [],
   "source": [
    "# hidden layer\n",
    "model.add(Dense(16, activation='relu'))"
   ]
  },
  {
   "cell_type": "code",
   "execution_count": 100,
   "id": "b184e836",
   "metadata": {},
   "outputs": [],
   "source": [
    "# output layer\n",
    "model.add(Dense(1, activation='sigmoid'))"
   ]
  },
  {
   "cell_type": "markdown",
   "id": "60ca6994",
   "metadata": {},
   "source": [
    "# 3. Compile Keras Model"
   ]
  },
  {
   "cell_type": "code",
   "execution_count": 101,
   "id": "46d4fe1b",
   "metadata": {},
   "outputs": [],
   "source": [
    "# compile the keras model\n",
    "model.compile(loss='binary_crossentropy', \n",
    "              optimizer='adam', \n",
    "              metrics=['accuracy']\n",
    "             )"
   ]
  },
  {
   "cell_type": "markdown",
   "id": "7502751e",
   "metadata": {},
   "source": [
    "# 4. Fit the model"
   ]
  },
  {
   "cell_type": "code",
   "execution_count": 102,
   "id": "08a324ed",
   "metadata": {},
   "outputs": [
    {
     "name": "stdout",
     "output_type": "stream",
     "text": [
      "Epoch 1/10\n",
      "52/52 [==============================] - 1s 6ms/step - loss: 4.2347 - accuracy: 0.4988 - val_loss: 1.6647 - val_accuracy: 0.4724\n",
      "Epoch 2/10\n",
      "52/52 [==============================] - 0s 3ms/step - loss: 1.4408 - accuracy: 0.4457 - val_loss: 1.0057 - val_accuracy: 0.6102\n",
      "Epoch 3/10\n",
      "52/52 [==============================] - 0s 2ms/step - loss: 0.9125 - accuracy: 0.5584 - val_loss: 1.1143 - val_accuracy: 0.6614\n",
      "Epoch 4/10\n",
      "52/52 [==============================] - 0s 2ms/step - loss: 0.7813 - accuracy: 0.6591 - val_loss: 0.8863 - val_accuracy: 0.6654\n",
      "Epoch 5/10\n",
      "52/52 [==============================] - 0s 2ms/step - loss: 0.8214 - accuracy: 0.6352 - val_loss: 0.8755 - val_accuracy: 0.6654\n",
      "Epoch 6/10\n",
      "52/52 [==============================] - 0s 2ms/step - loss: 0.7861 - accuracy: 0.6240 - val_loss: 0.9198 - val_accuracy: 0.6654\n",
      "Epoch 7/10\n",
      "52/52 [==============================] - 0s 2ms/step - loss: 0.7564 - accuracy: 0.6470 - val_loss: 0.6884 - val_accuracy: 0.6811\n",
      "Epoch 8/10\n",
      "52/52 [==============================] - 0s 2ms/step - loss: 0.6707 - accuracy: 0.6443 - val_loss: 0.6745 - val_accuracy: 0.6693\n",
      "Epoch 9/10\n",
      "52/52 [==============================] - 0s 3ms/step - loss: 0.5845 - accuracy: 0.7031 - val_loss: 0.6973 - val_accuracy: 0.6339\n",
      "Epoch 10/10\n",
      "52/52 [==============================] - 0s 2ms/step - loss: 0.6114 - accuracy: 0.6546 - val_loss: 0.6713 - val_accuracy: 0.6614\n"
     ]
    },
    {
     "data": {
      "text/plain": [
       "<tensorflow.python.keras.callbacks.History at 0x7f7b8049d160>"
      ]
     },
     "execution_count": 102,
     "metadata": {},
     "output_type": "execute_result"
    }
   ],
   "source": [
    "# fit the keras model on the dataset\n",
    "\n",
    "model.fit(X_train, \n",
    "          y_train, \n",
    "          validation_data=(X_test,y_test), \n",
    "          epochs=10, \n",
    "          batch_size=10)"
   ]
  },
  {
   "cell_type": "markdown",
   "id": "2afba3d1",
   "metadata": {},
   "source": [
    "# 5. Make Predictions\n"
   ]
  },
  {
   "cell_type": "code",
   "execution_count": 103,
   "id": "0a77fd0f",
   "metadata": {},
   "outputs": [
    {
     "data": {
      "text/plain": [
       "[0, 0, 0, 0, 0, 0, 0, 0, 1, 1]"
      ]
     },
     "execution_count": 103,
     "metadata": {},
     "output_type": "execute_result"
    }
   ],
   "source": [
    "# make probability predictions with the model\n",
    "y_probs = model.predict(X_test)\n",
    "# round predictions \n",
    "rounded = [round(x[0]) for x in y_probs]\n",
    "rounded[:10]"
   ]
  },
  {
   "cell_type": "code",
   "execution_count": 104,
   "id": "7e48aaa6-e6e2-4fe8-aeb1-e4c6e82c1198",
   "metadata": {},
   "outputs": [
    {
     "data": {
      "text/plain": [
       "array([0.14551416, 0.30229127, 0.14671302, 0.34060773, 0.69809765,\n",
       "       0.20939618, 0.12789881, 0.40560418, 0.00552759, 0.38638797],\n",
       "      dtype=float32)"
      ]
     },
     "execution_count": 104,
     "metadata": {},
     "output_type": "execute_result"
    }
   ],
   "source": [
    "# sample 10 of those\n",
    "import numpy as np\n",
    "probs=y_probs.reshape(-1)\n",
    "np.random.choice(probs, size=10)"
   ]
  },
  {
   "cell_type": "code",
   "execution_count": 105,
   "id": "f95645d1",
   "metadata": {},
   "outputs": [
    {
     "name": "stdout",
     "output_type": "stream",
     "text": [
      "[[0], [0], [0], [0], [0], [0], [0], [0], [1], [1]]\n",
      "[0. 0. 0. 0. 0. 0. 0. 0. 0. 0.]\n"
     ]
    }
   ],
   "source": [
    "# make class predictions with the model\n",
    "y_preds = (model.predict(X_test) > 0.5).astype(int)\n",
    "print(y_preds[:10].tolist())\n",
    "print(y_test[:10])"
   ]
  },
  {
   "cell_type": "markdown",
   "id": "bc59ac34",
   "metadata": {},
   "source": [
    "# 6. Evaluate"
   ]
  },
  {
   "cell_type": "markdown",
   "id": "5978a5c3-9f31-4530-9031-ac6642a06746",
   "metadata": {},
   "source": [
    "#### Important note:\n",
    "For a lot of reasons, the evaluation metrics will vary dramatically with each run of the model. A primary reason for this is the small size of the dataset."
   ]
  },
  {
   "cell_type": "code",
   "execution_count": 106,
   "id": "ad035d58",
   "metadata": {},
   "outputs": [
    {
     "name": "stdout",
     "output_type": "stream",
     "text": [
      "8/8 [==============================] - 0s 1ms/step - loss: 0.6713 - accuracy: 0.6614\n",
      "Accuracy: 66.14\n"
     ]
    }
   ],
   "source": [
    "# evaluate the keras model\n",
    "_, accuracy = model.evaluate(X_test, y_test)\n",
    "print('Accuracy: %.2f' % (accuracy*100))"
   ]
  },
  {
   "cell_type": "markdown",
   "id": "9f2f6520",
   "metadata": {},
   "source": [
    "#### How to read the classification report\n",
    "- Accuracy: The percentage of predictions that were accurate.\n",
    "- Precision: Percentage of correct positive predictions relative to total positive predictions.\n",
    "- Recall: Percentage of correct positive predictions relative to total actual positives.\n",
    "- F1 Score: A weighted harmonic mean of precision and recall.\n",
    "- Support: The number of occurrences of each class in y_test (i.e., how many observations belonged to each class in the test dataset)."
   ]
  },
  {
   "cell_type": "code",
   "execution_count": 107,
   "id": "5df19ded",
   "metadata": {},
   "outputs": [
    {
     "name": "stdout",
     "output_type": "stream",
     "text": [
      "              precision    recall  f1-score   support\n",
      "\n",
      "         0.0       0.70      0.87      0.77       168\n",
      "         1.0       0.50      0.26      0.34        86\n",
      "\n",
      "    accuracy                           0.66       254\n",
      "   macro avg       0.60      0.56      0.56       254\n",
      "weighted avg       0.63      0.66      0.63       254\n",
      "\n"
     ]
    }
   ],
   "source": [
    "# Evaluate the model\n",
    "from sklearn import metrics\n",
    "print(metrics.classification_report(y_test, y_preds))"
   ]
  },
  {
   "cell_type": "markdown",
   "id": "d1d5802b-d5c2-4d00-a3de-a5145f968d81",
   "metadata": {},
   "source": [
    "# 7. Save the model"
   ]
  },
  {
   "cell_type": "code",
   "execution_count": 20,
   "id": "3bdbfbf9-79bb-41ab-b41d-ed30df35e774",
   "metadata": {},
   "outputs": [],
   "source": [
    "model.save(\"diabetes-model-1.h5\")"
   ]
  },
  {
   "cell_type": "code",
   "execution_count": 21,
   "id": "61e2aa8a-20f8-4e64-a24d-96c0b15d016a",
   "metadata": {},
   "outputs": [],
   "source": [
    "# load model\n",
    "from keras.models import load_model\n",
    "model2 = load_model(\"diabetes-model-1.h5\")"
   ]
  },
  {
   "cell_type": "markdown",
   "id": "3c26da73-2a08-4cfe-9eeb-6e01a335eb49",
   "metadata": {},
   "source": [
    "# 8. Alternative: Categorical target as 2 variables"
   ]
  },
  {
   "cell_type": "code",
   "execution_count": 80,
   "id": "652a9a90-f7ee-4c88-aee1-1c6a637ee6e0",
   "metadata": {},
   "outputs": [],
   "source": [
    "# split into input (X) and output (y) variables\n",
    "from keras.utils import to_categorical\n",
    "X = dataset[:,0:8]\n",
    "y = to_categorical(dataset[:,8])"
   ]
  },
  {
   "cell_type": "code",
   "execution_count": 81,
   "id": "2ac23fe6-837d-4dc7-b9ed-16e4e7a2df88",
   "metadata": {},
   "outputs": [
    {
     "name": "stdout",
     "output_type": "stream",
     "text": [
      "before: \n",
      " [1. 0. 1. 0. 1.]\n",
      "after: \n",
      " [[0. 1.]\n",
      " [1. 0.]\n",
      " [0. 1.]\n",
      " [1. 0.]\n",
      " [0. 1.]]\n"
     ]
    }
   ],
   "source": [
    "# examine the target & compare to the previous structure\n",
    "print('before: \\n', dataset[:,8][:5])\n",
    "print('after: \\n',  y[:5])"
   ]
  },
  {
   "cell_type": "code",
   "execution_count": 82,
   "id": "1dd7c01d-fe32-4cc2-8a3c-7bdae044239b",
   "metadata": {},
   "outputs": [],
   "source": [
    "# split into 67% for train and 33% for test\n",
    "X_train, X_test, y_train, y_test = train_test_split(X, y, test_size=0.33, random_state=42)"
   ]
  },
  {
   "cell_type": "code",
   "execution_count": 83,
   "id": "9957c002-dd8b-4a57-bc27-761f5a5d4373",
   "metadata": {},
   "outputs": [],
   "source": [
    "# build the model and fit to the data\n",
    "model = Sequential()\n",
    "model.add(Dense(12, input_dim=8, activation='relu'))\n",
    "model.add(Dense(16, activation='relu'))"
   ]
  },
  {
   "cell_type": "code",
   "execution_count": 84,
   "id": "ba0c901d-eac3-458b-b335-da65467d2a13",
   "metadata": {},
   "outputs": [],
   "source": [
    "# let's restructure the output layer\n",
    "# previously we did this: \n",
    "#model.add(Dense(1, activation='sigmoid')) \n",
    "model.add(Dense(2, activation='softmax'))  \n",
    "# notice the difference in nodes and activation function"
   ]
  },
  {
   "cell_type": "code",
   "execution_count": 85,
   "id": "347cf687-c48e-4b1b-96ca-caa921a3c1eb",
   "metadata": {},
   "outputs": [
    {
     "name": "stdout",
     "output_type": "stream",
     "text": [
      "Epoch 1/10\n",
      "52/52 [==============================] - 1s 6ms/step - loss: 5.9707 - accuracy: 0.6671 - val_loss: 1.4234 - val_accuracy: 0.6850\n",
      "Epoch 2/10\n",
      "52/52 [==============================] - 0s 2ms/step - loss: 1.2447 - accuracy: 0.6791 - val_loss: 1.1873 - val_accuracy: 0.6929\n",
      "Epoch 3/10\n",
      "52/52 [==============================] - 0s 2ms/step - loss: 1.2187 - accuracy: 0.6792 - val_loss: 1.1164 - val_accuracy: 0.5984\n",
      "Epoch 4/10\n",
      "52/52 [==============================] - 0s 2ms/step - loss: 0.9442 - accuracy: 0.6880 - val_loss: 1.0911 - val_accuracy: 0.6024\n",
      "Epoch 5/10\n",
      "52/52 [==============================] - 0s 2ms/step - loss: 1.0049 - accuracy: 0.6185 - val_loss: 0.9546 - val_accuracy: 0.6890\n",
      "Epoch 6/10\n",
      "52/52 [==============================] - 0s 2ms/step - loss: 0.9176 - accuracy: 0.6296 - val_loss: 0.8831 - val_accuracy: 0.6535\n",
      "Epoch 7/10\n",
      "52/52 [==============================] - 0s 3ms/step - loss: 0.8648 - accuracy: 0.6449 - val_loss: 0.8324 - val_accuracy: 0.6969\n",
      "Epoch 8/10\n",
      "52/52 [==============================] - 0s 2ms/step - loss: 0.7641 - accuracy: 0.6633 - val_loss: 0.7816 - val_accuracy: 0.6457\n",
      "Epoch 9/10\n",
      "52/52 [==============================] - 0s 2ms/step - loss: 0.7466 - accuracy: 0.6554 - val_loss: 0.7879 - val_accuracy: 0.6693\n",
      "Epoch 10/10\n",
      "52/52 [==============================] - 0s 3ms/step - loss: 0.8035 - accuracy: 0.6170 - val_loss: 0.7359 - val_accuracy: 0.6969\n"
     ]
    },
    {
     "data": {
      "text/plain": [
       "<tensorflow.python.keras.callbacks.History at 0x7f7b805c9880>"
      ]
     },
     "execution_count": 85,
     "metadata": {},
     "output_type": "execute_result"
    }
   ],
   "source": [
    "# compile and fit\n",
    "model.compile(loss='binary_crossentropy', \n",
    "              optimizer='adam', \n",
    "              metrics=['accuracy']\n",
    "             )\n",
    "model.fit(X_train, \n",
    "          y_train, \n",
    "          validation_data=(X_test,y_test), \n",
    "          epochs=10, \n",
    "          batch_size=10)"
   ]
  },
  {
   "cell_type": "code",
   "execution_count": 86,
   "id": "7583401a-89d4-48d4-bdbb-9792a472f6c4",
   "metadata": {},
   "outputs": [
    {
     "name": "stdout",
     "output_type": "stream",
     "text": [
      "[[0.43301982 0.5669802 ]\n",
      " [0.9786235  0.02137655]\n",
      " [0.957305   0.04269496]\n",
      " [0.9732276  0.02677243]\n",
      " [0.9708293  0.0291707 ]]\n",
      "[[0 1]\n",
      " [1 0]\n",
      " [1 0]\n",
      " [1 0]\n",
      " [1 0]]\n"
     ]
    }
   ],
   "source": [
    "# examine the predictions\n",
    "y_probs = model.predict(X_test)\n",
    "print(y_probs[:5])\n",
    "\n",
    "y_preds = (model.predict(X_test) > 0.5).astype(int)\n",
    "print(y_preds[:5])"
   ]
  },
  {
   "cell_type": "code",
   "execution_count": 87,
   "id": "518dc2ac-f2f0-4632-af7d-7d9b5faa8cb8",
   "metadata": {},
   "outputs": [],
   "source": [
    "# reformat the outcomes to a single value (this is optional)\n",
    "y_test=[y[1] for y in y_test]\n",
    "y_preds=[pred[1] for pred in y_preds]"
   ]
  },
  {
   "cell_type": "code",
   "execution_count": 88,
   "id": "dc9f5766-b932-4120-bd53-ada5a80acbfd",
   "metadata": {},
   "outputs": [
    {
     "name": "stdout",
     "output_type": "stream",
     "text": [
      "              precision    recall  f1-score   support\n",
      "\n",
      "         0.0       0.74      0.85      0.79       168\n",
      "         1.0       0.57      0.41      0.48        86\n",
      "\n",
      "    accuracy                           0.70       254\n",
      "   macro avg       0.65      0.63      0.63       254\n",
      "weighted avg       0.68      0.70      0.68       254\n",
      "\n"
     ]
    }
   ],
   "source": [
    "# evaluate\n",
    "print(metrics.classification_report(y_test, y_preds))"
   ]
  }
 ],
 "metadata": {
  "kernelspec": {
   "display_name": "default:Python",
   "language": "python",
   "name": "conda-env-default-py"
  },
  "language_info": {
   "codemirror_mode": {
    "name": "ipython",
    "version": 3
   },
   "file_extension": ".py",
   "mimetype": "text/x-python",
   "name": "python",
   "nbconvert_exporter": "python",
   "pygments_lexer": "ipython3",
   "version": "3.9.12"
  }
 },
 "nbformat": 4,
 "nbformat_minor": 5
}
